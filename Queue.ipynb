{
 "cells": [
  {
   "cell_type": "code",
   "execution_count": null,
   "metadata": {},
   "outputs": [
    {
     "name": "stdout",
     "output_type": "stream",
     "text": [
      "\n",
      "Queue Operations Menu:\n",
      "1. Enqueue (Add to Queue)\n",
      "2. Dequeue (Remove from Queue)\n",
      "3. Peek (View Front Element)\n",
      "4. Check if Queue is Empty\n",
      "5. Get Queue Size\n",
      "6. Exit\n"
     ]
    }
   ],
   "source": [
    "class Queue:\n",
    "    def __init__(self):\n",
    "        self.items =[]\n",
    "\n",
    "    def enqueue(self,data):\n",
    "        self.items.append(data)\n",
    "\n",
    "    def dequeue(self):\n",
    "        if self.is_empty():\n",
    "            return \"Queue is Empty, Cannot Dequeue\"\n",
    "        return self.items.pop(0)\n",
    "    \n",
    "    def peek(self):\n",
    "        if self.is_empty():\n",
    "            return \"Queue Is Empty\"\n",
    "        return self.items[0]\n",
    "    \n",
    "    def is_empty(self):\n",
    "        return len(self.items)==0\n",
    "\n",
    "    def size(self):\n",
    "        return len(self.items)\n",
    "\n",
    "\n",
    "def display_menu():\n",
    "    print(\"\\nQueue Operations Menu:\")\n",
    "    print(\"1. Enqueue (Add to Queue)\")\n",
    "    print(\"2. Dequeue (Remove from Queue)\")\n",
    "    print(\"3. Peek (View Front Element)\")\n",
    "    print(\"4. Check if Queue is Empty\")\n",
    "    print(\"5. Get Queue Size\")\n",
    "    print(\"6. Exit\")\n",
    "\n",
    "\n",
    "def main():\n",
    "    queue = Queue()\n",
    "    \n",
    "    while True:\n",
    "        display_menu()\n",
    "        try:\n",
    "            choice = int(input(\"Enter your choice (1-6): \"))\n",
    "        except ValueError:\n",
    "            print(\"Invalid input! Please enter a number between 1 and 6.\")\n",
    "            continue\n",
    "        \n",
    "        if choice == 1:\n",
    "            data = input(\"Enter data to enqueue: \")\n",
    "            queue.enqueue(data)\n",
    "            print(f\"'{data}' added to the queue.\")\n",
    "        elif choice == 2:\n",
    "            result = queue.dequeue()\n",
    "            print(result)\n",
    "        elif choice == 3:\n",
    "            result = queue.peek()\n",
    "            print(f\"Front element: {result}\")\n",
    "        elif choice == 4:\n",
    "            if queue.is_empty():\n",
    "                print(\"Queue is empty.\")\n",
    "            else:\n",
    "                print(\"Queue is not empty.\")\n",
    "        elif choice == 5:\n",
    "            print(f\"Queue size: {queue.size()}\")\n",
    "        elif choice == 6:\n",
    "            print(\"Exiting program. Goodbye!\")\n",
    "            break\n",
    "        else:\n",
    "            print(\"Invalid choice! Please select a valid option.\")\n",
    "\n",
    "if __name__ == \"__main__\":\n",
    "    main()\n",
    "\n"
   ]
  },
  {
   "cell_type": "code",
   "execution_count": null,
   "metadata": {},
   "outputs": [],
   "source": []
  }
 ],
 "metadata": {
  "kernelspec": {
   "display_name": "Python 3",
   "language": "python",
   "name": "python3"
  },
  "language_info": {
   "codemirror_mode": {
    "name": "ipython",
    "version": 3
   },
   "file_extension": ".py",
   "mimetype": "text/x-python",
   "name": "python",
   "nbconvert_exporter": "python",
   "pygments_lexer": "ipython3",
   "version": "3.11.5"
  }
 },
 "nbformat": 4,
 "nbformat_minor": 2
}
